{
 "cells": [
  {
   "cell_type": "markdown",
   "id": "70bceaf3",
   "metadata": {
    "papermill": {
     "duration": 0.00596,
     "end_time": "2022-08-15T05:01:02.586485",
     "exception": false,
     "start_time": "2022-08-15T05:01:02.580525",
     "status": "completed"
    },
    "tags": []
   },
   "source": [
    "# Anomaly Detection"
   ]
  },
  {
   "attachments": {
    "dc5788aa-647f-44a0-953a-827560cb11e1.png": {
     "image/png": "[encoded data removed]"
    }
   },
   "cell_type": "markdown",
   "id": "cb2802fe",
   "metadata": {
    "papermill": {
     "duration": 0.004296,
     "end_time": "2022-08-15T05:01:02.595982",
     "exception": false,
     "start_time": "2022-08-15T05:01:02.591686",
     "status": "completed"
    },
    "tags": []
   },
   "source": [
    "Carefully choose features to detect anomaly distributoin\n",
    "1. Try to convert distribution of each feature in training set to gaussian distribution by using log,sqrt,etc transformations. (Skip this step if it is already in gaussian distribution). <br>\n",
    "2. Calculate mu(mean) and var(variance) of training set. <br>\n",
    "3. For row 1 in validation set, calculate p (probability of density function) with mu and var of training set for each feature: <br>\n",
    "![image.png](attachment:dc5788aa-647f-44a0-953a-827560cb11e1.png)\n",
    "\n",
    "<br>\n",
    "4. p = p(feature 1) * p (feature 2) * ... * p(feature n) <br>\n",
    "5. Now select a threshold and if p is less than threshold then it is anomaly, otherwise its not an anomaly.<br>\n",
    "6. Do this for all rows"
   ]
  },
  {
   "cell_type": "code",
   "execution_count": 1,
   "id": "911f2efe",
   "metadata": {
    "execution": {
     "iopub.execute_input": "2022-08-15T05:01:02.608025Z",
     "iopub.status.busy": "2022-08-15T05:01:02.607300Z",
     "iopub.status.idle": "2022-08-15T05:01:02.622673Z",
     "shell.execute_reply": "2022-08-15T05:01:02.621377Z"
    },
    "papermill": {
     "duration": 0.024876,
     "end_time": "2022-08-15T05:01:02.625480",
     "exception": false,
     "start_time": "2022-08-15T05:01:02.600604",
     "status": "completed"
    },
    "tags": []
   },
   "outputs": [],
   "source": [
    "import numpy as np\n",
    "import matplotlib.pyplot as plt"
   ]
  },
  {
   "cell_type": "code",
   "execution_count": 2,
   "id": "f3f161e0",
   "metadata": {
    "execution": {
     "iopub.execute_input": "2022-08-15T05:01:02.638004Z",
     "iopub.status.busy": "2022-08-15T05:01:02.636881Z",
     "iopub.status.idle": "2022-08-15T05:01:02.643660Z",
     "shell.execute_reply": "2022-08-15T05:01:02.642716Z"
    },
    "papermill": {
     "duration": 0.015187,
     "end_time": "2022-08-15T05:01:02.645891",
     "exception": false,
     "start_time": "2022-08-15T05:01:02.630704",
     "status": "completed"
    },
    "tags": []
   },
   "outputs": [],
   "source": [
    "def estimate_gaussian(X):\n",
    "    m,n=X.shape\n",
    "\n",
    "    #mu = mean\n",
    "    #mu = np.mean(X,axis=0)\n",
    "    #OR\n",
    "    mu=1/m * np.sum(X,axis=0) \n",
    "    print(mu)\n",
    "\n",
    "    #var=variance\n",
    "    #var = np.var(X,axis=0)\n",
    "    #OR\n",
    "    var=1/m* np.sum((X-mu)**2,axis=0)\n",
    "    print(var)\n",
    "    \n",
    "    return mu,var"
   ]
  },
  {
   "cell_type": "code",
   "execution_count": 3,
   "id": "668059cf",
   "metadata": {
    "execution": {
     "iopub.execute_input": "2022-08-15T05:01:02.657778Z",
     "iopub.status.busy": "2022-08-15T05:01:02.656923Z",
     "iopub.status.idle": "2022-08-15T05:01:02.662982Z",
     "shell.execute_reply": "2022-08-15T05:01:02.662110Z"
    },
    "papermill": {
     "duration": 0.014748,
     "end_time": "2022-08-15T05:01:02.665468",
     "exception": false,
     "start_time": "2022-08-15T05:01:02.650720",
     "status": "completed"
    },
    "tags": []
   },
   "outputs": [],
   "source": [
    "def my_multivariate_gaussian(X,mu,var):\n",
    "    #Here are 2 implementations, first one with loop and other without loop and optimized\n",
    "    m,n=X.shape\n",
    "    \n",
    "    # 1: With loop\n",
    "    #probability=np.ones((m,))\n",
    "    #for i in range(m):   \n",
    "    #    for j in range(n):\n",
    "    #        probability[i]*=1/np.sqrt(2*np.pi*var[j]) * np.exp(-(X[i][j]-mu[j])**2/(2*var[j]))\n",
    "        \n",
    "    # 2: Without loop  Best optimized \n",
    "    probability=np.prod(1/np.sqrt(2*np.pi*var) * np.exp(-(X-mu)**2/(2*var)),axis=1)\n",
    "    \n",
    "    return probability"
   ]
  },
  {
   "cell_type": "code",
   "execution_count": 4,
   "id": "ff2a92ba",
   "metadata": {
    "execution": {
     "iopub.execute_input": "2022-08-15T05:01:02.677395Z",
     "iopub.status.busy": "2022-08-15T05:01:02.676585Z",
     "iopub.status.idle": "2022-08-15T05:01:02.685117Z",
     "shell.execute_reply": "2022-08-15T05:01:02.683902Z"
    },
    "papermill": {
     "duration": 0.018203,
     "end_time": "2022-08-15T05:01:02.688469",
     "exception": false,
     "start_time": "2022-08-15T05:01:02.670266",
     "status": "completed"
    },
    "tags": []
   },
   "outputs": [],
   "source": [
    "def select_threshold(p,y_val):\n",
    "    best_epsilon=0\n",
    "    best_f1=0\n",
    "    f1=0\n",
    "\n",
    "    step_size=(np.max(p) - np.min(p) )/1000\n",
    "\n",
    "    for epsilon in np.arange(np.min(p),np.max(p),step_size):\n",
    "        predictions=p<epsilon\n",
    "        tp=np.sum((predictions==1) & (y_val==1))\n",
    "        fp=np.sum((predictions==1) & (y_val==0))\n",
    "        fn=np.sum((predictions==0) & (y_val==1))\n",
    "\n",
    "        precision=tp/(tp+fp)\n",
    "        recall=tp/(tp+fn)\n",
    "\n",
    "        f1=2*precision*recall/(precision+recall)\n",
    "\n",
    "        #OR directly run sklearn.metrics.f1_score library\n",
    "\n",
    "        if f1>best_f1:\n",
    "            best_f1=f1\n",
    "            best_epsilon=epsilon\n",
    "\n",
    "    return best_epsilon,best_f1"
   ]
  },
  {
   "cell_type": "code",
   "execution_count": 5,
   "id": "9daf44e1",
   "metadata": {
    "execution": {
     "iopub.execute_input": "2022-08-15T05:01:02.701280Z",
     "iopub.status.busy": "2022-08-15T05:01:02.699833Z",
     "iopub.status.idle": "2022-08-15T05:01:02.726855Z",
     "shell.execute_reply": "2022-08-15T05:01:02.725775Z"
    },
    "papermill": {
     "duration": 0.036219,
     "end_time": "2022-08-15T05:01:02.729818",
     "exception": false,
     "start_time": "2022-08-15T05:01:02.693599",
     "status": "completed"
    },
    "tags": []
   },
   "outputs": [],
   "source": [
    "X_train=np.load('../input/anomaly-detection-gaussian-distribution/X_part1.npy')\n",
    "X_val=np.load('../input/anomaly-detection-gaussian-distribution/X_val_part1.npy')\n",
    "y_val=np.load('../input/anomaly-detection-gaussian-distribution/y_val_part1.npy')"
   ]
  },
  {
   "cell_type": "code",
   "execution_count": 6,
   "id": "0b7ee8ed",
   "metadata": {
    "execution": {
     "iopub.execute_input": "2022-08-15T05:01:02.741972Z",
     "iopub.status.busy": "2022-08-15T05:01:02.741157Z",
     "iopub.status.idle": "2022-08-15T05:01:02.752039Z",
     "shell.execute_reply": "2022-08-15T05:01:02.750631Z"
    },
    "papermill": {
     "duration": 0.020126,
     "end_time": "2022-08-15T05:01:02.754812",
     "exception": false,
     "start_time": "2022-08-15T05:01:02.734686",
     "status": "completed"
    },
    "tags": []
   },
   "outputs": [
    {
     "data": {
      "text/plain": [
       "(307, 2)"
      ]
     },
     "execution_count": 6,
     "metadata": {},
     "output_type": "execute_result"
    }
   ],
   "source": [
    "X_train.shape"
   ]
  },
  {
   "cell_type": "code",
   "execution_count": 7,
   "id": "31c903e9",
   "metadata": {
    "execution": {
     "iopub.execute_input": "2022-08-15T05:01:02.767509Z",
     "iopub.status.busy": "2022-08-15T05:01:02.766682Z",
     "iopub.status.idle": "2022-08-15T05:01:02.997896Z",
     "shell.execute_reply": "2022-08-15T05:01:02.996486Z"
    },
    "papermill": {
     "duration": 0.240796,
     "end_time": "2022-08-15T05:01:03.000771",
     "exception": false,
     "start_time": "2022-08-15T05:01:02.759975",
     "status": "completed"
    },
    "tags": []
   },
   "outputs": [
    {
     "data": {
      "image/png": "[encoded data removed]",
      "text/plain": [
       "<Figure size 432x288 with 1 Axes>"
      ]
     },
     "metadata": {
      "needs_background": "light"
     },
     "output_type": "display_data"
    }
   ],
   "source": [
    "plt.scatter(X_train[:,0],X_train[:,1],marker='x',c='b')\n",
    "\n",
    "# Set the title\n",
    "plt.title(\"The first dataset\")\n",
    "# Set the y-axis label\n",
    "plt.ylabel('Throughput (mb/s)')\n",
    "# Set the x-axis label\n",
    "plt.xlabel('Latency (ms)')\n",
    "# Set axis range\n",
    "plt.axis([0, 30, 0, 30])\n",
    "plt.show()"
   ]
  },
  {
   "cell_type": "code",
   "execution_count": 8,
   "id": "d0417ba6",
   "metadata": {
    "execution": {
     "iopub.execute_input": "2022-08-15T05:01:03.015983Z",
     "iopub.status.busy": "2022-08-15T05:01:03.015082Z",
     "iopub.status.idle": "2022-08-15T05:01:03.022166Z",
     "shell.execute_reply": "2022-08-15T05:01:03.021289Z"
    },
    "papermill": {
     "duration": 0.017097,
     "end_time": "2022-08-15T05:01:03.025195",
     "exception": false,
     "start_time": "2022-08-15T05:01:03.008098",
     "status": "completed"
    },
    "tags": []
   },
   "outputs": [
    {
     "name": "stdout",
     "output_type": "stream",
     "text": [
      "[14.11222578 14.99771051]\n",
      "[1.83263141 1.70974533]\n"
     ]
    }
   ],
   "source": [
    "mu,var=estimate_gaussian(X_train)"
   ]
  },
  {
   "cell_type": "code",
   "execution_count": 9,
   "id": "fa76e8b3",
   "metadata": {
    "execution": {
     "iopub.execute_input": "2022-08-15T05:01:03.039556Z",
     "iopub.status.busy": "2022-08-15T05:01:03.038442Z",
     "iopub.status.idle": "2022-08-15T05:01:03.044892Z",
     "shell.execute_reply": "2022-08-15T05:01:03.043865Z"
    },
    "papermill": {
     "duration": 0.016116,
     "end_time": "2022-08-15T05:01:03.047617",
     "exception": false,
     "start_time": "2022-08-15T05:01:03.031501",
     "status": "completed"
    },
    "tags": []
   },
   "outputs": [],
   "source": [
    "p=my_multivariate_gaussian(X_val,mu,var)\n",
    "p1=my_multivariate_gaussian(X_train,mu,var)"
   ]
  },
  {
   "cell_type": "code",
   "execution_count": 10,
   "id": "a0123652",
   "metadata": {
    "execution": {
     "iopub.execute_input": "2022-08-15T05:01:03.060794Z",
     "iopub.status.busy": "2022-08-15T05:01:03.059944Z",
     "iopub.status.idle": "2022-08-15T05:01:03.100575Z",
     "shell.execute_reply": "2022-08-15T05:01:03.099274Z"
    },
    "papermill": {
     "duration": 0.050238,
     "end_time": "2022-08-15T05:01:03.103297",
     "exception": false,
     "start_time": "2022-08-15T05:01:03.053059",
     "status": "completed"
    },
    "tags": []
   },
   "outputs": [
    {
     "name": "stderr",
     "output_type": "stream",
     "text": [
      "/opt/conda/lib/python3.7/site-packages/ipykernel_launcher.py:14: RuntimeWarning: invalid value encountered in long_scalars\n",
      "  \n"
     ]
    },
    {
     "data": {
      "text/plain": [
       "(8.990852779269493e-05, 0.8750000000000001)"
      ]
     },
     "execution_count": 10,
     "metadata": {},
     "output_type": "execute_result"
    }
   ],
   "source": [
    "epsilon,f1=select_threshold(p,y_val)\n",
    "epsilon,f1"
   ]
  },
  {
   "cell_type": "code",
   "execution_count": 11,
   "id": "70b17a4d",
   "metadata": {
    "execution": {
     "iopub.execute_input": "2022-08-15T05:01:03.115837Z",
     "iopub.status.busy": "2022-08-15T05:01:03.115225Z",
     "iopub.status.idle": "2022-08-15T05:01:03.330367Z",
     "shell.execute_reply": "2022-08-15T05:01:03.328937Z"
    },
    "papermill": {
     "duration": 0.224813,
     "end_time": "2022-08-15T05:01:03.333410",
     "exception": false,
     "start_time": "2022-08-15T05:01:03.108597",
     "status": "completed"
    },
    "tags": []
   },
   "outputs": [
    {
     "data": {
      "image/png": "[encoded data removed]",
      "text/plain": [
       "<Figure size 432x288 with 1 Axes>"
      ]
     },
     "metadata": {
      "needs_background": "light"
     },
     "output_type": "display_data"
    }
   ],
   "source": [
    "#Outliers in validation set\n",
    "plt.scatter(X_val[:,0],X_val[:,1],marker='x',c='b')\n",
    "plt.scatter(X_val[p<epsilon,0],X_val[p<epsilon,1],marker='o',facecolor=\"none\",edgecolor=\"r\",s=70)\n",
    "\n",
    "# Set the title\n",
    "plt.title(\"The first dataset\")\n",
    "# Set the y-axis label\n",
    "plt.ylabel('Throughput (mb/s)')\n",
    "# Set the x-axis label\n",
    "plt.xlabel('Latency (ms)')\n",
    "# Set axis range\n",
    "plt.axis([0, 30, 0, 30])\n",
    "plt.show()"
   ]
  },
  {
   "cell_type": "code",
   "execution_count": 12,
   "id": "3d24c03b",
   "metadata": {
    "execution": {
     "iopub.execute_input": "2022-08-15T05:01:03.348127Z",
     "iopub.status.busy": "2022-08-15T05:01:03.347650Z",
     "iopub.status.idle": "2022-08-15T05:01:03.560284Z",
     "shell.execute_reply": "2022-08-15T05:01:03.558969Z"
    },
    "papermill": {
     "duration": 0.222857,
     "end_time": "2022-08-15T05:01:03.562958",
     "exception": false,
     "start_time": "2022-08-15T05:01:03.340101",
     "status": "completed"
    },
    "tags": []
   },
   "outputs": [
    {
     "data": {
      "image/png": "[encoded data removed]",
      "text/plain": [
       "<Figure size 432x288 with 1 Axes>"
      ]
     },
     "metadata": {
      "needs_background": "light"
     },
     "output_type": "display_data"
    }
   ],
   "source": [
    "#Outliers in training set\n",
    "plt.scatter(X_train[:,0],X_train[:,1],marker='x',c='b')\n",
    "plt.scatter(X_train[p1<epsilon,0],X_train[p1<epsilon,1],marker='o',facecolor=\"none\",edgecolor=\"r\",s=70)\n",
    "\n",
    "# Set the title\n",
    "plt.title(\"The first dataset\")\n",
    "# Set the y-axis label\n",
    "plt.ylabel('Throughput (mb/s)')\n",
    "# Set the x-axis label\n",
    "plt.xlabel('Latency (ms)')\n",
    "# Set axis range\n",
    "plt.axis([0, 30, 0, 30])\n",
    "plt.show()"
   ]
  },
  {
   "cell_type": "code",
   "execution_count": null,
   "id": "74f15b07",
   "metadata": {
    "papermill": {
     "duration": 0.005816,
     "end_time": "2022-08-15T05:01:03.575053",
     "exception": false,
     "start_time": "2022-08-15T05:01:03.569237",
     "status": "completed"
    },
    "tags": []
   },
   "outputs": [],
   "source": []
  }
 ],
 "metadata": {
  "kernelspec": {
   "display_name": "Python 3",
   "language": "python",
   "name": "python3"
  },
  "language_info": {
   "codemirror_mode": {
    "name": "ipython",
    "version": 3
   },
   "file_extension": ".py",
   "mimetype": "text/x-python",
   "name": "python",
   "nbconvert_exporter": "python",
   "pygments_lexer": "ipython3",
   "version": "3.7.12"
  },
  "papermill": {
   "default_parameters": {},
   "duration": 11.558516,
   "end_time": "2022-08-15T05:01:04.506139",
   "environment_variables": {},
   "exception": null,
   "input_path": "__notebook__.ipynb",
   "output_path": "__notebook__.ipynb",
   "parameters": {},
   "start_time": "2022-08-15T05:00:52.947623",
   "version": "2.3.4"
  }
 },
 "nbformat": 4,
 "nbformat_minor": 5
}
